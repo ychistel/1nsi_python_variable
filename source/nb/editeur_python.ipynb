{
 "cells": [
  {
   "cell_type": "markdown",
   "id": "5c8728b9",
   "metadata": {},
   "source": [
    "# Un éditeur et un interpréteur\n",
    "\n",
    "## IDLE Python\n",
    "\n",
    "Le langage python utilise un **interpréteur** pour exécuter les programmes. C'est lui qui s'ouvre lorsqu'on lance python dans la liste des programmes sous le nom *IDLE Python* ou alors depuis un terminal par la commande *python*.\n",
    "\n",
    "![idle_python.png](attachment:idle_python.png)\n",
    "\n",
    ".. note::\n",
    "\n",
    "    On reconnaît facilement l'**interpréteur** car la ligne commence toujours par `>>>`.\n",
    "\n",
    "Pour écrire les programmes sur plusieurs lignes, on utilise un **éditeur**. Il faut un **éditeur** qui reconnaît le langage python pour que la syntaxe soit colorisée. L'interpréteur dispose d'un menu qui permet d'ouvrir l'éditeur par le menu File -> New File.\n",
    "\n",
    "Une nouvelle fenêtre apparait! C'est l'éditeur et c'est dans celle-ci qu'on saisira nos programmes. \n",
    "\n",
    "![editeur_python.png](attachment:editeur_python.png)\n",
    "\n",
    "Il seront lancés par un appui sur la touche F5 après avoir enregistré son fichier dans son espace de travail.\n",
    "\n",
    "![idle_python2.png](attachment:idle_python2.png)\n",
    "\n",
    "## Notebook JUPYTER\n",
    "\n",
    "Un **notebook** est une application web qui permet avec un navigateur (firefox, chrome, etc) de faire de la programmation en python et aussi avec d'autres langages.\n",
    "\n",
    "La page web propose des cellules pour écrire ses programmes en python.\n",
    "\n",
    "![notebook_jupyter.png](attachment:notebook_jupyter.png)\n",
    "\n",
    "- On peut l'utiliser comme client seul qui suppose une installation sur le PC.\n",
    "- On peut l'utiliser sur un serveur. Son principal atout est la centralisation des travaux sur une seule machine qui est accessible dans tout le lycée sur n'importe quel poste.\n",
    "\n",
    "Un **notebook** est accessible sur l'ENT en accédant à l'application CAPYTALE."
   ]
  }
 ],
 "metadata": {
  "celltoolbar": "Format de la Cellule Texte Brut",
  "kernelspec": {
   "display_name": "Python 3",
   "language": "python",
   "name": "python3"
  },
  "language_info": {
   "codemirror_mode": {
    "name": "ipython",
    "version": 3
   },
   "file_extension": ".py",
   "mimetype": "text/x-python",
   "name": "python",
   "nbconvert_exporter": "python",
   "pygments_lexer": "ipython3",
   "version": "3.9.4"
  }
 },
 "nbformat": 4,
 "nbformat_minor": 5
}
