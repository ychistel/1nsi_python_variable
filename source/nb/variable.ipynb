{
 "cells": [
  {
   "cell_type": "markdown",
   "id": "a8c42bf5",
   "metadata": {},
   "source": [
    "La variable en Python\n",
    "=================="
   ]
  },
  {
   "cell_type": "markdown",
   "id": "2c96f599",
   "metadata": {},
   "source": [
    "Dans les langages de programmation, une variable est définie par un nom et associée à un espace mémoire. \n",
    "\n",
    "- le nom de la variable peut être une lettre, un mot de plusieurs lettres ou une combinaison alphanumérique (lettres et chiffres) mais qui ne commence pas par un chiffre.\n",
    "- l'espace mémoire permet de stocker la valeur associée à la variable pendant l'exécution du programme.\n",
    "\n",
    "Un nom donné à une variable doit être réfléchi pour savoir la grandeur qu'elle représente."
   ]
  },
  {
   "cell_type": "raw",
   "id": "22405dfe",
   "metadata": {
    "raw_mimetype": "text/restructuredtext"
   },
   "source": [
    ".. admonition:: Exemple\n",
    "\n",
    "    Voici des exemples de variables:\n",
    "\n",
    "    - Une variable qui représente un nombre : `i`, `n`, `x`, `y`, etc.\n",
    "    - Une variable qui représente une chaine de caractères : `mot`, `nom`, `texte`, etc.\n",
    "    - Deux variables qui représentent des grandeurs similaires peuvent avoir des noms proches mais qui se différencient par un chiffre placé à la fin : `mot1` et `mot2` ou `x_1` et `x_2`, etc."
   ]
  },
  {
   "cell_type": "markdown",
   "id": "201e529d",
   "metadata": {},
   "source": [
    "Affecter une variable en python\n",
    "---------------------------------------------\n",
    "\n",
    "Donner une valeur à une variable est une **affectation**. \n",
    "\n",
    "En **python**, l'affectation se fait avec le signe mathématique égal `=`.\n",
    "\n",
    "Pour affecter une valeur à une variable, on écrit toujours en premier le nom de la variable, puis le signe `=` et enfin la valeur qu'on lui attribue."
   ]
  },
  {
   "cell_type": "raw",
   "id": "1bd248cf",
   "metadata": {
    "raw_mimetype": "text/restructuredtext"
   },
   "source": [
    ".. admonition:: Exemple\n",
    "\n",
    "    On déclare trois variables `a`, `b` et `c` en affectant respectivement les valeurs 4, 5 et 6.\n",
    "\n",
    "    >>> a=4\n",
    "    >>> b=5\n",
    "    >>> c=6"
   ]
  },
  {
   "cell_type": "markdown",
   "id": "697a821c",
   "metadata": {},
   "source": [
    "Souvent, on écrit une affection par ligne. Il est possible d'affecter sur une même ligne une même valeur à plusieurs variables ou plusieurs valeurs à plusieurs variables."
   ]
  },
  {
   "cell_type": "raw",
   "id": "4124ea18",
   "metadata": {
    "raw_mimetype": "text/restructuredtext"
   },
   "source": [
    ".. admonition:: Exemple\n",
    "\n",
    "    La même affectation que l'exemple précédent en une ligne. L'ordre des variables et des valeurs est **important**.\n",
    "    \n",
    "    >>> a,b,c = 4,5,6\n",
    "\n",
    "    On peut donner la même valeur aux trois variables :\n",
    "    \n",
    "    >>> a,b,c = 1"
   ]
  },
  {
   "cell_type": "raw",
   "id": "fc7eff54",
   "metadata": {
    "raw_mimetype": "text/restructuredtext"
   },
   "source": [
    "Modifier la valeur d'une variable\n",
    "---------------------------------\n",
    "\n",
    "On peut modifier la valeur d'une variable en tenant compte de sa valeur précédente. Par exemple, on souhaite ajouter 2 à la valeur d'une variable `x`. On écrit alors l'instruction:\n",
    "\n",
    ">>> x = x + 2\n",
    "\n",
    "Le langage procède de droite à gauche:\n",
    "\n",
    "- il calcule d'abord la valeur `x+2` avec la valeur actuelle de la variable x;\n",
    "- ensuite il affecte la nouvelle valeur à la variable `x`."
   ]
  },
  {
   "cell_type": "raw",
   "id": "709f3637",
   "metadata": {
    "raw_mimetype": "text/restructuredtext"
   },
   "source": [
    ".. important::\n",
    "\n",
    "    La signification du signe `=` est très différente en informatique et en mathématiques !\n",
    "\n",
    "    **En Python :**\n",
    "\n",
    "    `x=x+2` signifie que la variable `x` est augmentée de 2 en valeur.\n",
    "    Donc si la variable `x` vaut 3, après l'affectation la variable `x` vaut 5. Elle est augmentée de 2.\n",
    "\n",
    "    **En maths :**\n",
    "\n",
    "    :math:`x=x+2` est une égalité dans laquelle le nombre :math:`x` a la même valeur, qu'il soit à gauche ou à droite du signe égal. Dans ce cas précis, il n'existe pas de nombre vérifiant l'égalité, donc il n'y a pas de solution."
   ]
  }
 ],
 "metadata": {
  "celltoolbar": "Format de la Cellule Texte Brut",
  "kernelspec": {
   "display_name": "Python 3",
   "language": "python",
   "name": "python3"
  },
  "language_info": {
   "codemirror_mode": {
    "name": "ipython",
    "version": 3
   },
   "file_extension": ".py",
   "mimetype": "text/x-python",
   "name": "python",
   "nbconvert_exporter": "python",
   "pygments_lexer": "ipython3",
   "version": "3.9.4"
  }
 },
 "nbformat": 4,
 "nbformat_minor": 5
}
