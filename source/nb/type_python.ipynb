{
 "cells": [
  {
   "cell_type": "markdown",
   "id": "a8c42bf5",
   "metadata": {},
   "source": [
    "Les types en Python\n",
    "================"
   ]
  },
  {
   "cell_type": "markdown",
   "id": "94b583e2",
   "metadata": {
    "raw_mimetype": "text/restructuredtext"
   },
   "source": [
    "Chaque variable en Python possède un **type**. Selon la valeur attribuée à une variable, Python lui associe un type.\n",
    "\n",
    "Il existe différents types de variables qu'on peut classer en 2 catégories:\n",
    "\n",
    "1. le type de base : entier, flottant, chaine de caractères, booléen, ...\n",
    "2. le type construit : liste, dictionnaire, objet, ..."
   ]
  },
  {
   "cell_type": "raw",
   "id": "a2b0a5a4",
   "metadata": {
    "raw_mimetype": "text/restructuredtext"
   },
   "source": [
    ".. important::\n",
    "\n",
    "    En python, le type d'une variable peut changer selon le contexte. Une variable peut être un nombre puis devenir une chaine de caractères ou inversement."
   ]
  },
  {
   "cell_type": "markdown",
   "id": "40b379d0",
   "metadata": {},
   "source": [
    "Les types de nombres\n",
    "-------------------------------\n",
    "\n",
    "Une variable peut désigner un nombre. Ce nombre peut être de type **entier** ou de type **flottant** c'est à dire écrit avec une virgule (un point en fait).\n",
    "\n",
    "En Python, le type entier se note **int** et le type flottant se note **float**.\n",
    "\n",
    "On peut utiliser des **opérateurs** mathématiques comme la somme (+), la différence (-), le produit (\\*) et le quotient (/) pour effectuer des calculs.\n",
    "\n",
    "Selon l'opérateur, le résultat peut avoir un type différent des valeurs avant le calcul. Par exemple, le quotient de 2 nombres entiers peut donner un résultat à virgule, donc un flottant.\n",
    "\n",
    "En plus des 4 opérations mathématiques, il existe en Python des opérateurs mathématiques tels que:"
   ]
  },
  {
   "cell_type": "raw",
   "id": "7f43ad20",
   "metadata": {
    "raw_mimetype": "text/restructuredtext"
   },
   "source": [
    ".. table::\n",
    "    :align: center\n",
    "    \n",
    "    ========= ==========================================\n",
    "    Opérateur Opération mathématique\n",
    "    ========= ==========================================\n",
    "      x//y    quotient entier de la division de x par y\n",
    "      x\\%y    reste entier de la division de x par y\n",
    "      x\\*\\*y  x à la puissance y\n",
    "    ========= =========================================="
   ]
  },
  {
   "cell_type": "raw",
   "id": "e8531d43",
   "metadata": {
    "raw_mimetype": "text/restructuredtext"
   },
   "source": [
    ".. admonition:: Exemple\n",
    "\n",
    "    1. Les variables `a` et `b` ont des valeurs entières donc sont de type **int**\n",
    "\n",
    "    >>> a,b = 8,5\n",
    "    \n",
    "    2. On calcule le quotient des variables `a` et `b` que l'on affecte à la variable `c`:\n",
    "    \n",
    "    >>> c = a/b\n",
    "    \n",
    "    La variable `c` a pour valeur :math:`1.6` donc elle de type **float**\n",
    "\n",
    "    3. On calcule le quotient entier des variables `a` et `b` que l'on affecte à la variable `d`:\n",
    "    \n",
    "    >>> d = a // b\n",
    "    \n",
    "    La variable `d` vaut :math:`1` donc elle est de type **int**.\n",
    "    \n",
    "    4. On calcule le reste entier des variables `a` et `b` que l'on affecte à la variable `r`: \n",
    "    \n",
    "    >>> r = a%b\n",
    "    \n",
    "    La variable `r` a pour valeur 3 donc elle est de type entier."
   ]
  },
  {
   "cell_type": "markdown",
   "id": "366372a1",
   "metadata": {},
   "source": [
    "## Le type chaine de caractères\n",
    "\n",
    "Une variable de type **string** est une variable dont la valeur est constitué de lettres, chiffres, espaces et de tout caractère alphanumérique et de symboles.\n",
    "\n",
    "L'affectation d'une chaîne de caratère à une variable se fait en notant la chaine entre guillemets doubles \"*chaine de caratères*\" ou simples '*chaine de caratères*'.\n",
    "\n",
    "Des chaines de caratères peuvent être réunies en une seule chaine de caratères par **concaténation**.\n",
    "\n",
    "Les opérateurs de concaténation sont la somme (+) et la multiplication (\\*)."
   ]
  },
  {
   "cell_type": "raw",
   "id": "ce040b40",
   "metadata": {
    "raw_mimetype": "text/restructuredtext"
   },
   "source": [
    ".. admonition:: Exemple\n",
    "\n",
    "    1. On crée les variables txt1 et txt2 de type string:\n",
    "\n",
    "    >>> txt1 = \"La vie est belle \"\n",
    "    >>> txt2 = 'mais cruelle parfois!'\n",
    "    \n",
    "    On concatène ces deux chaines dans la variable `txt`:\n",
    "    \n",
    "    >>> txt = txt1 + txt2\n",
    "    \n",
    "    La variable `txt` contient la chaine \"La vie est belle mais cruelle parfois!\".\n",
    "\n",
    "    2. On crée la variable `motif` qui contient 10 fois le caractère \\#.\n",
    "    \n",
    "    >>> motif = '#' * 10"
   ]
  },
  {
   "cell_type": "markdown",
   "id": "32ea2d15",
   "metadata": {},
   "source": [
    "Un type construit : la liste\n",
    "------------------------------------\n",
    "\n",
    "En Python, il existe le type **list** qui permet de regrouper dans une même variable plusieurs valeurs. Les valeurs d'une liste sont notées entre crochets et séparées par une virgule."
   ]
  },
  {
   "cell_type": "raw",
   "id": "b82b1a6b",
   "metadata": {
    "raw_mimetype": "text/restructuredtext"
   },
   "source": [
    ".. admonition:: Exemple\n",
    "\n",
    "    On veut regrouper les nombres 4, 5 et 6 dans une même variable `L`:\n",
    "    \n",
    "    >>> L = [4,5,6]"
   ]
  },
  {
   "cell_type": "markdown",
   "id": "a512eb07",
   "metadata": {},
   "source": [
    "Chaque valeur d'une liste est repérée par sa position appelée **indice**. \n",
    "\n",
    "- La première valeur a pour indice `0`, \n",
    "- la deuxième valeur a pour indice `1` et \n",
    "- la dernière valeur a pour indice `le nombre de valeurs - 1`"
   ]
  },
  {
   "cell_type": "raw",
   "id": "d0d3bd0c",
   "metadata": {
    "raw_mimetype": "text/restructuredtext"
   },
   "source": [
    ".. tip::\n",
    "\n",
    "   On peut aussi utiliser des indices négatifs ! La dernière valeur d'une liste a pour indice `-1`, l'avant dernière a pour indice `-2`, etc."
   ]
  },
  {
   "cell_type": "markdown",
   "id": "3f83bb99",
   "metadata": {},
   "source": [
    "On peut modifier les valeurs d'une liste en utilisant les indices et en réalisant une nouvelle affectation."
   ]
  },
  {
   "cell_type": "raw",
   "id": "611333ae",
   "metadata": {
    "raw_mimetype": "text/restructuredtext"
   },
   "source": [
    ".. admonition:: Exemple\n",
    "\n",
    "    La liste `L` contient les valeurs 4, 5 et 6.\n",
    "    \n",
    "    >>> L = [4,5,6]\n",
    "    \n",
    "    1. On modifie la première valeur de la liste `L`:\n",
    "    \n",
    "    >>> L[0] = 8\n",
    "    \n",
    "    La liste `L` contient les valeurs 8, 5 et 6.\n",
    "    \n",
    "    2. On change la seconde valeur de la liste en la multipliant par 2:\n",
    "    \n",
    "    >>> L[1] = L[1] * 2\n",
    "    \n",
    "    La liste contient les valeurs 8, 10 et 12."
   ]
  }
 ],
 "metadata": {
  "celltoolbar": "Format de la Cellule Texte Brut",
  "kernelspec": {
   "display_name": "Python 3",
   "language": "python",
   "name": "python3"
  },
  "language_info": {
   "codemirror_mode": {
    "name": "ipython",
    "version": 3
   },
   "file_extension": ".py",
   "mimetype": "text/x-python",
   "name": "python",
   "nbconvert_exporter": "python",
   "pygments_lexer": "ipython3",
   "version": "3.9.4"
  }
 },
 "nbformat": 4,
 "nbformat_minor": 5
}
