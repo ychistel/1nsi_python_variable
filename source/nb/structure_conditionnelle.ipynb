{
 "cells": [
  {
   "cell_type": "markdown",
   "id": "a8c42bf5",
   "metadata": {},
   "source": [
    "Structure conditionnelle en Python\n",
    "============================"
   ]
  },
  {
   "cell_type": "markdown",
   "id": "1ff9ad7a",
   "metadata": {},
   "source": [
    "Les tests\n",
    "-------------\n",
    "\n",
    "Un test compare des valeurs et renvoie un booléen : **True** ou **False**\n",
    "\n",
    "Les opérateurs de comparaison sont:\n",
    "\n",
    "- $==$ pour comparer deux valeurs égales : $a==3$,\n",
    "- $!=$ pour comparer deux valeurs non égales.\n",
    "- $<$, $>$, $<=$ et $>=$ pour comparer comme en maths : $<$, $>$, $\\leqslant$ et $\\geqslant$.\n",
    "- Les opérateurs NOT, AND et OR peuvent être utilisés dans les tests."
   ]
  },
  {
   "cell_type": "raw",
   "id": "0c7ae2b7",
   "metadata": {
    "raw_mimetype": "text/restructuredtext"
   },
   "source": [
    ".. admonition:: Exemple\n",
    "\n",
    "    Soit la variable :code:`a=5` :\n",
    "\n",
    "    - :code:`a < 3` est `False`\n",
    "    - :code:`a != 0` est `True`\n",
    "    - :code:`a > 0 and a <= 5` est `True`\n",
    "    - :code:`a < 0 or a != 5` est `False`\n",
    "    - :code:`not a == 5`  est `False`"
   ]
  },
  {
   "cell_type": "markdown",
   "id": "f8ba7660",
   "metadata": {},
   "source": [
    "si / if\n",
    "-------\n",
    "\n",
    "On peut soumettre l'exécution d'une instruction à une condition.\n",
    "\n",
    "La structure est de la forme:\n",
    "\n",
    "```python\n",
    "if test:\n",
    "    instructions\n",
    "```\n",
    "\n",
    "Le test renvoie une valeur booléenne.\n",
    "\n",
    "- Si la valeur du test est **True**, les instructions sont exécutées;\n",
    "- Si la valeur du test est **False**, aucune instruction est exécutée."
   ]
  },
  {
   "cell_type": "raw",
   "id": "462998ac",
   "metadata": {
    "raw_mimetype": "text/restructuredtext"
   },
   "source": [
    ".. admonition:: Exemple\n",
    "\n",
    "    .. code-block:: python\n",
    "    \n",
    "        if a >= 0:\n",
    "            print(\"Le nombre a est positif\")\n",
    "    \n",
    "    Si la variable `a` est positive ou nulle, alors l'affichage du message est réalisé.\n",
    "    Dans le cas contraire, aucune instruction n'est exécutée."
   ]
  },
  {
   "cell_type": "markdown",
   "id": "331b1c0a",
   "metadata": {},
   "source": [
    "si ... sinon / if ... else\n",
    "-----------------------------\n",
    "\n",
    "Lorsque le test de la condition **if** est à **False**, il est possible d'exécuter d'autres instructions. Elles sont introduites par le mot **else**. La structure `if ... else` permetde gérer les exceprions à la condition.\n",
    "\n",
    "La structure devient :\n",
    "\n",
    "```python\n",
    "if test:\n",
    "    instructions\n",
    "else:\n",
    "    autres instructions\n",
    "```"
   ]
  },
  {
   "cell_type": "raw",
   "id": "f8beac03",
   "metadata": {
    "raw_mimetype": "text/restructuredtext"
   },
   "source": [
    ".. admonition:: Exemple\n",
    "\n",
    "    .. code-block:: python\n",
    "    \n",
    "        if a >= 0:\n",
    "            print(\"Le nombre a est positif\")\n",
    "        else:\n",
    "            print(\"Le nombre a est négatif\")\n",
    "    \n",
    "    Si la variable `a` est positive ou nulle, alors l'affichage du message \"Le nombre a est positif\" est réalisé.\n",
    "    Sinon (le nombre est négatif) le message \"Le nombre a est négatif\" est réalisé"
   ]
  },
  {
   "cell_type": "raw",
   "id": "acd5e0c8",
   "metadata": {
    "raw_mimetype": "text/restructuredtext"
   },
   "source": [
    ".. warning::\n",
    "\n",
    "    Il n'y a pas de test placé après le `else`. Cela correspond à tous les autres cas de figures ne vérifiant pas le test."
   ]
  },
  {
   "cell_type": "markdown",
   "id": "aeb36982",
   "metadata": {},
   "source": [
    "si ... sinon si / if ... elif\n",
    "-------------------------------\n",
    "\n",
    "La commande else **ne contient pas de test**. Il est possible de soumettre un nouveau test avec la commande **elif**. La structure est alors de la forme:\n",
    "\n",
    "```python\n",
    "if test 1:\n",
    "    instructions\n",
    "elif test 2:\n",
    "    autres instructions\n",
    "elif test 3:\n",
    "    encore des instructions\n",
    "else:\n",
    "    les dernières instructions\n",
    "```"
   ]
  },
  {
   "cell_type": "raw",
   "id": "a92bb22b",
   "metadata": {
    "raw_mimetype": "text/restructuredtext"
   },
   "source": [
    ".. warning::\n",
    "\n",
    "    Le dernier `else` traitant les autres cas de figure n'est pas obligatoire."
   ]
  },
  {
   "cell_type": "raw",
   "id": "5ec85bf7",
   "metadata": {
    "raw_mimetype": "text/restructuredtext"
   },
   "source": [
    ".. admonition:: Exemple\n",
    "\n",
    "    .. code-block:: python\n",
    "    \n",
    "        if a>0:\n",
    "            print(\"Le nombre a est strictement positif\")\n",
    "        elif a<0:\n",
    "            print(\"Le nombre a est strictement négatif\")\n",
    "        else:\n",
    "            print(\"Le nombre a est nul\")  "
   ]
  }
 ],
 "metadata": {
  "celltoolbar": "Format de la Cellule Texte Brut",
  "kernelspec": {
   "display_name": "Python 3",
   "language": "python",
   "name": "python3"
  },
  "language_info": {
   "codemirror_mode": {
    "name": "ipython",
    "version": 3
   },
   "file_extension": ".py",
   "mimetype": "text/x-python",
   "name": "python",
   "nbconvert_exporter": "python",
   "pygments_lexer": "ipython3",
   "version": "3.9.4"
  }
 },
 "nbformat": 4,
 "nbformat_minor": 5
}
