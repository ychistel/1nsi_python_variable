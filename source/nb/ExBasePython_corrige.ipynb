{
 "cells": [
  {
   "cell_type": "markdown",
   "metadata": {},
   "source": [
    "# Exercice 1\n",
    "1. Déclarer dans l'interpréteur Python, 2 variables $a$ et $b$ en leur affectant respectivement les valeurs $15$ et $7$.\n",
    "2. Calculer `a//b` puis `b//a`. Que signifient les valeurs affichées?\n",
    "3. Calculer `a%b` et `b%a`. Que signifient les valeurs affichées?\n",
    "4. Calculer `a/2+b/3`. Quel est le type numérique obtenu ?\n",
    "5. Calculer `a**4-b**3`. Quel est le calcul effectué ?"
   ]
  },
  {
   "cell_type": "code",
   "execution_count": 1,
   "metadata": {},
   "outputs": [],
   "source": [
    "a=15\n",
    "b=7"
   ]
  },
  {
   "cell_type": "code",
   "execution_count": 2,
   "metadata": {},
   "outputs": [
    {
     "name": "stdout",
     "output_type": "stream",
     "text": [
      "2\n",
      "0\n",
      "La première valeur est le quotient entier de la division 15 par 7\n",
      "La seconde valeur est le quotient entier de la division 7 par 15\n"
     ]
    }
   ],
   "source": [
    "print(a//b)\n",
    "print(b//a)\n",
    "print(\"La première valeur est le quotient entier de la division %s par %s\" % (a,b))\n",
    "print(\"La seconde valeur est le quotient entier de la division %s par %s\" % (b,a))"
   ]
  },
  {
   "cell_type": "code",
   "execution_count": 3,
   "metadata": {},
   "outputs": [
    {
     "name": "stdout",
     "output_type": "stream",
     "text": [
      "1\n",
      "7\n",
      "La première valeur est le reste entier de la division 15 par 7\n",
      "La première valeur est le reste entier de la division 7 par 15\n"
     ]
    }
   ],
   "source": [
    "print(a%b)\n",
    "print(b%a)\n",
    "print(\"La première valeur est le reste entier de la division %s par %s\" % (a,b))\n",
    "print(\"La première valeur est le reste entier de la division %s par %s\" % (b,a))"
   ]
  },
  {
   "cell_type": "code",
   "execution_count": 6,
   "metadata": {},
   "outputs": [
    {
     "name": "stdout",
     "output_type": "stream",
     "text": [
      "9.833333333333334\n",
      "Le résultat est un flottant\n"
     ]
    }
   ],
   "source": [
    "print(a/2+b/3)\n",
    "print(\"Le résultat est un flottant\")"
   ]
  },
  {
   "cell_type": "code",
   "execution_count": 5,
   "metadata": {},
   "outputs": [
    {
     "data": {
      "text/plain": [
       "50282"
      ]
     },
     "execution_count": 5,
     "metadata": {},
     "output_type": "execute_result"
    }
   ],
   "source": [
    "a**4-b**3\n",
    "# on a calculé a*a*a*a-b*b*b"
   ]
  },
  {
   "cell_type": "markdown",
   "metadata": {},
   "source": [
    "# Exercice 2\n",
    "1. Quelle est la valeur de la variable $a$ si on saisit les lignes suivantes dans l'interpréteur :\n",
    "\n",
    "```python\n",
    "    >>> a=3\n",
    "    >>> a=4    \n",
    "    >>> a=a+2    \n",
    "    >>> a     \n",
    "```\n",
    "Vérifier votre réponse en saisissant ces lignes dans l'interpréteur.\n",
    "\n",
    "2. Refaire de même avec :\n",
    "\n",
    "```python\n",
    "    >>> a=2\n",
    "    >>> b=a*a\n",
    "    >>> b=a*b\n",
    "    >>> b=b*b\n",
    "    >>> b\n",
    "```\n",
    "Vérifier votre réponse en saisissant ces lignes dans l'interpréteur.\n"
   ]
  },
  {
   "cell_type": "code",
   "execution_count": 9,
   "metadata": {},
   "outputs": [
    {
     "data": {
      "text/plain": [
       "6"
      ]
     },
     "execution_count": 9,
     "metadata": {},
     "output_type": "execute_result"
    }
   ],
   "source": [
    "a=3\n",
    "a=4\n",
    "a=a+2\n",
    "a"
   ]
  },
  {
   "cell_type": "code",
   "execution_count": 10,
   "metadata": {},
   "outputs": [
    {
     "data": {
      "text/plain": [
       "64"
      ]
     },
     "execution_count": 10,
     "metadata": {},
     "output_type": "execute_result"
    }
   ],
   "source": [
    "a=2\n",
    "b=a*a\n",
    "b=a*b\n",
    "b=b*b\n",
    "b"
   ]
  },
  {
   "cell_type": "markdown",
   "metadata": {},
   "source": [
    "# Exercice 3\n",
    "Dans l'éditeur python, écrire un programme qui :\n",
    "1. demande la saise d'une valeur pour la variable $a$.\n",
    "2. demande la saise d'une valeur pour la variable $b$.\n",
    "3. calcule et affiche la somme des nombres $a$ et $b$\n",
    "4. Que remarquez-vous ? Corriger si nécessaire."
   ]
  },
  {
   "cell_type": "code",
   "execution_count": 11,
   "metadata": {},
   "outputs": [
    {
     "name": "stdout",
     "output_type": "stream",
     "text": [
      "a=3\n",
      "b=4\n"
     ]
    },
    {
     "data": {
      "text/plain": [
       "'34'"
      ]
     },
     "execution_count": 11,
     "metadata": {},
     "output_type": "execute_result"
    }
   ],
   "source": [
    "a=input(\"a=\")\n",
    "b=input(\"b=\")\n",
    "a+b"
   ]
  },
  {
   "cell_type": "markdown",
   "metadata": {},
   "source": [
    "### Remarque:\n",
    "Pour que la saisie soit comprise comme un nombre entier, il est **fortement** conseillé d'utiliser la fonction **int** qui convertit la saise en nombre entier.    \n",
    "L'erreur qui va se produire est la concaténation des nombres saisis considérés comme des chaines de caractères!"
   ]
  },
  {
   "cell_type": "code",
   "execution_count": 12,
   "metadata": {},
   "outputs": [
    {
     "name": "stdout",
     "output_type": "stream",
     "text": [
      "a=3\n",
      "b=4\n"
     ]
    },
    {
     "data": {
      "text/plain": [
       "7"
      ]
     },
     "execution_count": 12,
     "metadata": {},
     "output_type": "execute_result"
    }
   ],
   "source": [
    "a=int(input(\"a=\"))\n",
    "b=int(input(\"b=\"))\n",
    "a+b"
   ]
  },
  {
   "cell_type": "markdown",
   "metadata": {},
   "source": [
    "# Exercice 4\n",
    "Soit $a$ et $b$ deux variables numériques déclarées.\n",
    "\n",
    "1. Écrire un programme qui échange la valeur des variables $a$ et $b$ et les affiche ($b$ prend la valeur de $a$ et $a$ prend la valeur de $b$).\n",
    "2. Est-il possible d'échanger les valeurs en utilisant uniquement les variables $a$ et $b$ ?\n",
    "3. Modifier le programme pour calculer la somme et la différence des variables $a$ et $b$ puis afficher les résultats obtenus :     \n",
    "a) En utilisant autant de variables que vous voulez.     \n",
    "b) En utilisant seulement les 2 variables $a$ et $b$.     \n",
    "c) En mémorisant la somme dans la variable $a$ et la différence dans la variable $b$."
   ]
  },
  {
   "cell_type": "code",
   "execution_count": 14,
   "metadata": {},
   "outputs": [
    {
     "name": "stdout",
     "output_type": "stream",
     "text": [
      "a=2\n",
      "b=9\n",
      "2 9\n",
      "9 2\n"
     ]
    }
   ],
   "source": [
    "# Seconde solution avec les variables a et b (particularité de python!)\n",
    "a=int(input(\"a=\"))\n",
    "b=int(input(\"b=\"))\n",
    "print(a,b)\n",
    "a,b=b,a\n",
    "print(a,b)"
   ]
  },
  {
   "cell_type": "code",
   "execution_count": 13,
   "metadata": {},
   "outputs": [
    {
     "name": "stdout",
     "output_type": "stream",
     "text": [
      "a=4\n",
      "b=7\n",
      "4 7\n",
      "7 4\n"
     ]
    }
   ],
   "source": [
    "# Première solution avec 3 variables dont une tampon\n",
    "a=int(input(\"a=\"))\n",
    "b=int(input(\"b=\"))\n",
    "print(a,b)\n",
    "c=a\n",
    "a=b\n",
    "b=c\n",
    "print(a,b)"
   ]
  },
  {
   "cell_type": "markdown",
   "metadata": {},
   "source": [
    "# Exercice 5\n",
    "1. Dans l'interpréteur, saisir :     \n",
    "a) int('0110',2)     \n",
    "b) int('FF',16)     \n",
    "c) int('10011001', 2)\n",
    "2. Que semble réaliser la fonction python \\textbf{int(\\textit{chaine}, \\textit{base})} ?\n",
    "3. Écrire un programme qui demande la saise d'une base (entre 2 et 36) et un nombre dans cette base et affiche ce nombre en base 10."
   ]
  },
  {
   "cell_type": "code",
   "execution_count": 21,
   "metadata": {},
   "outputs": [
    {
     "data": {
      "text/plain": [
       "6"
      ]
     },
     "execution_count": 21,
     "metadata": {},
     "output_type": "execute_result"
    }
   ],
   "source": [
    "int('0110',2)"
   ]
  },
  {
   "cell_type": "code",
   "execution_count": 22,
   "metadata": {},
   "outputs": [
    {
     "data": {
      "text/plain": [
       "255"
      ]
     },
     "execution_count": 22,
     "metadata": {},
     "output_type": "execute_result"
    }
   ],
   "source": [
    "int('FF',16)"
   ]
  },
  {
   "cell_type": "code",
   "execution_count": 23,
   "metadata": {},
   "outputs": [
    {
     "data": {
      "text/plain": [
       "153"
      ]
     },
     "execution_count": 23,
     "metadata": {},
     "output_type": "execute_result"
    }
   ],
   "source": [
    "int('10011001',2)"
   ]
  },
  {
   "cell_type": "markdown",
   "metadata": {},
   "source": [
    "La fonction **int(chaine,base)** convertit en valeur décimale la chaine donnée dans la base indiquée."
   ]
  },
  {
   "cell_type": "code",
   "execution_count": 25,
   "metadata": {},
   "outputs": [
    {
     "name": "stdout",
     "output_type": "stream",
     "text": [
      "Saisir une base comprise entre 2 et 36:16\n",
      "Saisir le nombre dans la base 16 : aa\n",
      "Le nombre en valeur décimale est : 170\n"
     ]
    }
   ],
   "source": [
    "base=int(input(\"Saisir une base comprise entre 2 et 36:\"))\n",
    "chaine=input(\"Saisir le nombre dans la base %s : \" % base)\n",
    "print(\"Le nombre en valeur décimale est :\",int(chaine,base))"
   ]
  },
  {
   "cell_type": "markdown",
   "metadata": {},
   "source": [
    "# Exercice 6\n",
    "\n",
    "1. Les tests suivants sont-ils vrais ou faux ?    \n",
    "a) `5 > 0`     \n",
    "b) `25 > 0 and 25 < 100`     \n",
    "c) `36 > 0 or 36 < 100`    \n",
    "d) `10 < 0 or 10 > 0`    \n",
    "e) `-1 < 0 and -1 > 1`    \n",
    "f) `not -1 < 0`    \n",
    "g) `not(1>0 or 0>1)`    \n",
    "h) `not(1>0 and 0>1)`   \n",
    "i) `3 % 2 == 0`    \n",
    "j) `7 // 2 == 3`    \n",
    "k) `0.1 + 0.2 == 0.3`\n",
    "2. Vérifiez vos réponses en les saisissant dans l'interpréteur Python"
   ]
  },
  {
   "cell_type": "markdown",
   "metadata": {},
   "source": [
    "**Réponse sans machine.**     \n",
    "    \n",
    "a) `5 > 0` True    \n",
    "b) `25 > 0 and 25 < 100` True     \n",
    "c) `36 > 0 or 36 < 100` True    \n",
    "d) `10 < 0 or 10 > 0` True    \n",
    "e) `-1 < 0 and -1 > 1` False    \n",
    "f) `not -1 < 0` False    \n",
    "g) `not(1>0 or 0>1)` False    \n",
    "h) `not(1>0 and 0>1)` True   \n",
    "i) `3 % 2 == 0` False    \n",
    "j) `7 // 2 == 3` True    \n",
    "k) `0.1 + 0.2 == 0.3` False"
   ]
  },
  {
   "cell_type": "code",
   "execution_count": 18,
   "metadata": {},
   "outputs": [
    {
     "data": {
      "text/plain": [
       "True"
      ]
     },
     "execution_count": 18,
     "metadata": {},
     "output_type": "execute_result"
    }
   ],
   "source": [
    "5>0"
   ]
  },
  {
   "cell_type": "code",
   "execution_count": 8,
   "metadata": {},
   "outputs": [
    {
     "data": {
      "text/plain": [
       "True"
      ]
     },
     "execution_count": 8,
     "metadata": {},
     "output_type": "execute_result"
    }
   ],
   "source": [
    "25 > 0 and 25 < 100"
   ]
  },
  {
   "cell_type": "code",
   "execution_count": 9,
   "metadata": {},
   "outputs": [
    {
     "data": {
      "text/plain": [
       "True"
      ]
     },
     "execution_count": 9,
     "metadata": {},
     "output_type": "execute_result"
    }
   ],
   "source": [
    "36 > 0 or 36 < 100"
   ]
  },
  {
   "cell_type": "code",
   "execution_count": 10,
   "metadata": {},
   "outputs": [
    {
     "data": {
      "text/plain": [
       "True"
      ]
     },
     "execution_count": 10,
     "metadata": {},
     "output_type": "execute_result"
    }
   ],
   "source": [
    "10 < 0 or 10 > 0"
   ]
  },
  {
   "cell_type": "code",
   "execution_count": 11,
   "metadata": {},
   "outputs": [
    {
     "data": {
      "text/plain": [
       "False"
      ]
     },
     "execution_count": 11,
     "metadata": {},
     "output_type": "execute_result"
    }
   ],
   "source": [
    "-1 < 0 and -1 > 1"
   ]
  },
  {
   "cell_type": "code",
   "execution_count": 12,
   "metadata": {},
   "outputs": [
    {
     "data": {
      "text/plain": [
       "False"
      ]
     },
     "execution_count": 12,
     "metadata": {},
     "output_type": "execute_result"
    }
   ],
   "source": [
    "not -1 < 0"
   ]
  },
  {
   "cell_type": "code",
   "execution_count": 13,
   "metadata": {},
   "outputs": [
    {
     "data": {
      "text/plain": [
       "False"
      ]
     },
     "execution_count": 13,
     "metadata": {},
     "output_type": "execute_result"
    }
   ],
   "source": [
    "not(1>0 or 0>1)"
   ]
  },
  {
   "cell_type": "code",
   "execution_count": 14,
   "metadata": {},
   "outputs": [
    {
     "data": {
      "text/plain": [
       "True"
      ]
     },
     "execution_count": 14,
     "metadata": {},
     "output_type": "execute_result"
    }
   ],
   "source": [
    "not(1>0 and 0>1)"
   ]
  },
  {
   "cell_type": "code",
   "execution_count": 15,
   "metadata": {},
   "outputs": [
    {
     "data": {
      "text/plain": [
       "False"
      ]
     },
     "execution_count": 15,
     "metadata": {},
     "output_type": "execute_result"
    }
   ],
   "source": [
    "3 % 2 == 0"
   ]
  },
  {
   "cell_type": "code",
   "execution_count": 16,
   "metadata": {},
   "outputs": [
    {
     "data": {
      "text/plain": [
       "True"
      ]
     },
     "execution_count": 16,
     "metadata": {},
     "output_type": "execute_result"
    }
   ],
   "source": [
    "7 // 2 == 3"
   ]
  },
  {
   "cell_type": "code",
   "execution_count": 17,
   "metadata": {},
   "outputs": [
    {
     "data": {
      "text/plain": [
       "False"
      ]
     },
     "execution_count": 17,
     "metadata": {},
     "output_type": "execute_result"
    }
   ],
   "source": [
    "0.1 + 0.2 == 0.3"
   ]
  },
  {
   "cell_type": "markdown",
   "metadata": {},
   "source": [
    "# Exercice 7\n",
    "Écrire un programme qui demande la saisie d'un nombre $n$ et affiche si le nombre est pair ou impair."
   ]
  },
  {
   "cell_type": "code",
   "execution_count": null,
   "metadata": {},
   "outputs": [],
   "source": [
    "n=int(input(\"n=\"))\n",
    "if n%2==0:\n",
    "    print(\"Le nombre saisi %s est pair\" % n)\n",
    "else:\n",
    "    print(\"Le nombre saisi %s est impair\" % n)"
   ]
  },
  {
   "cell_type": "markdown",
   "metadata": {},
   "source": [
    "# Exercice 8\n",
    "\n",
    "1. Créer un nouveau fichier Python dans l'éditeur et l'enregistrer sous le nom **multiple.py**.\n",
    "2. Reprendre le programme de l'exercice précédent et le modifier pour vérifier que le nombre saisi est un multiple de 3.\n",
    "3. Modifier le programme précédent pour dire si le nombre saisi est un multiple de 5.\n",
    "4. Modifier votre programme pour dire si le nombre saisi est :\n",
    "\n",
    "- un multiple de 3 uniquement;\n",
    "- un multiple de 5 uniquement;\n",
    "- un multiple de 3 et 5."
   ]
  },
  {
   "cell_type": "code",
   "execution_count": 21,
   "metadata": {},
   "outputs": [
    {
     "name": "stdout",
     "output_type": "stream",
     "text": [
      "Saisir un nombre entier: 30\n",
      "Le nombre saisi est un multiple de 3 et 5\n"
     ]
    }
   ],
   "source": [
    "n = int(input(\"Saisir un nombre entier: \"))\n",
    "\n",
    "if n%3==0 and n%5==0:\n",
    "    print(\"Le nombre saisi est un multiple de 3 et 5\")\n",
    "elif n%3==0:\n",
    "    print(\"Le nombre saisi est un multiple de 3\")\n",
    "elif n%5==0:\n",
    "    print(\"Le nombre saisi est un multiple de 5\")\n",
    "else:\n",
    "    print(\"Le nombre saisi n'est ni un multiple de 3, ni un multiple de 5\")"
   ]
  },
  {
   "cell_type": "markdown",
   "metadata": {},
   "source": [
    "# Exercice 9\n",
    "\n",
    "\n",
    "1. Créer un nouveau fichier Python dans l'éditeur et l'enregistrer sous le nom **multiple-a-b.py**.\n",
    "2. Écrire un programme qui :\n",
    "\n",
    "- demande la saisie de deux nombres entiers `a` et `b`;\n",
    "- affiche si l'un est un multiple de l'autre.\n",
    "- on traitera les deux cas `a` est un multiple de `b` ou `b` est un multiple de `a`."
   ]
  },
  {
   "cell_type": "code",
   "execution_count": null,
   "metadata": {},
   "outputs": [],
   "source": [
    "# Première solution simple\n",
    "a=int(input(\"a=\"))\n",
    "b=int(input(\"b=\"))\n",
    "if a%b==0 or b%a==0:\n",
    "    print(\"les nombres %s et %s sont multiples\" % (a,b))"
   ]
  },
  {
   "cell_type": "code",
   "execution_count": null,
   "metadata": {},
   "outputs": [],
   "source": [
    "# Seconde solution avec réponse impair\n",
    "a=int(input(\"a=\"))\n",
    "b=int(input(\"b=\"))\n",
    "if a%b==0 or b%a==0:\n",
    "    print(\"les nombres %s et %s sont multiples\" % (a,b))\n",
    "else:\n",
    "    print(\"les nombres %s et %s ne sont pas multiples\" % (a,b))"
   ]
  },
  {
   "cell_type": "code",
   "execution_count": null,
   "metadata": {},
   "outputs": [],
   "source": [
    "# Troisième solution avec réponse plus précise\n",
    "a=int(input(\"a=\"))\n",
    "b=int(input(\"b=\"))\n",
    "if a%b==0:\n",
    "    print(\"le nombre %s est un multiple de %s\" % (a,b))\n",
    "elif b%a==0:\n",
    "    print(\"le nombre %s est un multiple de %s\" % (b,a))\n",
    "else:\n",
    "    print(\"les nombres %s et %s ne sont pas multiples\" % (a,b))"
   ]
  },
  {
   "cell_type": "markdown",
   "metadata": {},
   "source": [
    "# Exercice 10\n",
    "\n",
    "1. Créer un nouveau fichier Python dans l'éditeur et l'enregistrer sous le nom **identite.py**.\n",
    "2. Écrire un programme en Python qui :\n",
    "\n",
    "- demande de saisir le nom dans une variable **nom**. \n",
    "- demande de saisir le prénom dans une variable **prenom**.\n",
    "- demande de saisir l'âge dans la variable **age**.\n",
    "- affiche le message \"Vous vous appelez prenom nom et vous avez age ans.\" (en remplaçant les variables nom, prénom et age par leurs valeurs).\n",
    "\n",
    "3. Modifier votre programme avec un test qui permet de dire si la personne est plus jeune, plus vielle ou a le même âge que vous."
   ]
  },
  {
   "cell_type": "code",
   "execution_count": 23,
   "metadata": {},
   "outputs": [
    {
     "name": "stdout",
     "output_type": "stream",
     "text": [
      "Votre nom:Léponge\n",
      "Votre prénom:Bob\n",
      "Votre âge:8\n",
      "Vous vous appelez Bob Léponge et vous avez 8 ans.\n",
      "Vous êtes plus jeune que moi!\n"
     ]
    }
   ],
   "source": [
    "monage=16\n",
    "nom=input(\"Votre nom:\")\n",
    "prenom=input(\"Votre prénom:\")\n",
    "age=int(input(\"Votre âge:\"))\n",
    "print(\"Vous vous appelez\",prenom,nom,\"et vous avez\",age,\"ans.\")\n",
    "#print(\"Vous vous appelez %s %s et vous avez %s ans.\" % (nom,prenom,age))\n",
    "if age<monage:\n",
    "    print(\"Vous êtes plus jeune que moi!\")\n",
    "elif age>monage:\n",
    "    print(\"Vous êtes plus vieux que moi!\")\n",
    "else:\n",
    "    print(\"Nous avons le même age!\")"
   ]
  },
  {
   "cell_type": "markdown",
   "metadata": {},
   "source": [
    "# Exercice 11\n",
    "\n",
    "\n",
    "Écrire un programme qui demande la saisie des trois longueurs d'un triangle et affiche sa nature selon les cas.\n",
    "\n",
    "On rappelle qu'un triangle est iscèle s'il a 2 côtés de même longueur et qu'il est équilatéral s'il a ses trois cotés de même longueur."
   ]
  },
  {
   "cell_type": "code",
   "execution_count": null,
   "metadata": {},
   "outputs": [],
   "source": [
    "a=int(input(\"a=\"))\n",
    "b=int(input(\"b=\"))\n",
    "c=int(input(\"c=\"))\n",
    "if a==b==c:\n",
    "    print(\"le triangle est équilatéral\")\n",
    "elif a==b or b==c or a==c:\n",
    "    print(\"le triangle est isocèle\")\n",
    "elif a**2==b**2+c**2 or b**2==a**2+c**2 or c**2==a**2+b**2:\n",
    "    print(\"le triangle est rectangle\")\n",
    "else:\n",
    "    print(\"le triangle est scalène (3 mesures différentes)\")"
   ]
  },
  {
   "cell_type": "markdown",
   "metadata": {},
   "source": [
    "###  Remarque:\n",
    "On pourrait se demander pourquoi on ne teste pas si le triangle est rectangle et isocèle !     \n",
    "1. Cela impose d'avoir des longueurs non entières pour que ça se produise.\n",
    "2. tester des égalités avec des flottants est périlleux et nécessite un étude particulière."
   ]
  },
  {
   "cell_type": "markdown",
   "metadata": {},
   "source": [
    "# Exercice 12\n",
    "Écrire un programme qui demande la saisie d'une année $n$ et affiche si elle est bissextile ou non.      \n",
    "On rappelle qu'une année est bissextile si elle est un multiple de 4 mais pas un multiple de 100, ou si elle est un multiple de 400."
   ]
  },
  {
   "cell_type": "code",
   "execution_count": null,
   "metadata": {},
   "outputs": [],
   "source": [
    "annee=int(input(\"Année:\"))\n",
    "if ((annee%4==0) and (annee%100!=0)) or (annee%400==0):\n",
    "    print(\"L'année %s est bissextile\" % annee)\n",
    "else:\n",
    "    print(\"L'année %s n'est pas bissextile\" % annee)"
   ]
  },
  {
   "cell_type": "markdown",
   "metadata": {},
   "source": [
    "# Exercice 13\n",
    "\n",
    "La solution des équations du type $ax+b=0$ est $\\dfrac{-b}{a}$ lorsque $a$ est non nul. Si $a$ est nul, alors soit il y a infinité de solutions lorsque $b=0$, soit aucune solution dans le cas contraire.\n",
    "\n",
    "Écrire un programme qui :\n",
    "- demande la saisie des coefficients `a` et `b`.\n",
    "- donne la solution de l'équation $ax+b=0$ selon les différents cas de figure."
   ]
  },
  {
   "cell_type": "code",
   "execution_count": null,
   "metadata": {},
   "outputs": [],
   "source": [
    "# Solution simple\n",
    "\n",
    "a=float(input(\"a=\"))\n",
    "b=float(input(\"b=\"))\n",
    "\n",
    "if a!=0:\n",
    "    print(\"L'équation %sx+%s=0 admet pour solution x=%s\" % (a,b,-b/a))\n",
    "else:\n",
    "    print(\"le nombre a doit être non nul!\")"
   ]
  },
  {
   "cell_type": "code",
   "execution_count": null,
   "metadata": {},
   "outputs": [],
   "source": [
    "# On gère l'affichage dans le cas a=1\n",
    "\n",
    "a=float(input(\"a=\"))\n",
    "b=float(input(\"b=\"))\n",
    "\n",
    "if a!=0:\n",
    "    if a==1:\n",
    "        print(\"L'équation x+%s=0 admet pour solution x=%s\" % (b,-b/a))\n",
    "    else:\n",
    "        print(\"L'équation %sx+%s=0 admet pour solution x=%s\" % (a,b,-b/a))\n",
    "else:\n",
    "    print(\"le nombre a doit être non nul!\")"
   ]
  },
  {
   "cell_type": "code",
   "execution_count": null,
   "metadata": {},
   "outputs": [],
   "source": [
    "# On gère l'affichage dans le cas b négatif\n",
    "\n",
    "a=float(input(\"a=\")) #int(input(\"a=\"))\n",
    "b=float(input(\"a=\")) #int(input(\"b=\"))\n",
    "\n",
    "if a!=0:\n",
    "    if a==1:\n",
    "        if b<0:\n",
    "            print(\"L'équation x%s=0 admet pour solution x=%s\" % (b,-b/a))\n",
    "        else:\n",
    "            print(\"L'équation x+%s=0 admet pour solution x=%s\" % (b,-b/a))\n",
    "    else:\n",
    "        if b<0:\n",
    "            print(\"L'équation %sx%s=0 admet pour solution x=%s\" % (a,b,-b/a))\n",
    "        else:\n",
    "            print(\"L'équation %sx+%s=0 admet pour solution x=%s\" % (a,b,-b/a))\n",
    "else:\n",
    "    print(\"le nombre a doit être non nul!\")"
   ]
  },
  {
   "cell_type": "markdown",
   "metadata": {},
   "source": [
    "# Exercice 14\n",
    "\n",
    "1. Écrire un programme qui demande la saisie de 2 nombres entiers puis affiche ces nombres dans l'ordre croissant.\n",
    "2. Écrire un programme qui demande la saisie de 3 nombres entiers puis affiche ces nombres dans l'ordre croissant.\n",
    "3. Combien de tests de comparaison faudrait-il pour 4 nombres entiers ?"
   ]
  },
  {
   "cell_type": "code",
   "execution_count": null,
   "metadata": {},
   "outputs": [],
   "source": [
    "a=int(input(\"a=\"))\n",
    "b=int(input(\"b=\"))\n",
    "if a<b:\n",
    "    print(\"%s < %s\" % (a,b))\n",
    "else:\n",
    "    print(\"%s < %s\" % (b,a))"
   ]
  },
  {
   "cell_type": "code",
   "execution_count": null,
   "metadata": {},
   "outputs": [],
   "source": [
    "a=int(input(\"a=\"))\n",
    "b=int(input(\"b=\"))\n",
    "c=int(input(\"c=\"))\n",
    "if a<b:\n",
    "    if c<a:\n",
    "        print(\"%s < %s < %s\" % (c,a,b))\n",
    "    elif c<b:\n",
    "        print(\"%s < %s < %s\" % (a,c,b))\n",
    "    else:\n",
    "        print(\"%s < %s < %s\" % (a,b,c))\n",
    "else:\n",
    "    if c<b:\n",
    "        print(\"%s < %s < %s\" % (c,b,a))\n",
    "    elif c<a:\n",
    "        print(\"%s < %s < %s\" % (b,c,a))\n",
    "    else:\n",
    "        print(\"%s < %s < %s\" % (b,a,c))"
   ]
  },
  {
   "cell_type": "markdown",
   "metadata": {},
   "source": [
    "Nombre de tests à effectuer:\n",
    "\n",
    "- Pour 3 nombres, on remarque qu'il y a 6 possibilités : $2 \\times 3=6$\n",
    "- Pour 4 nombres, on aura $2 \\times 3 \\times 4 = 24$ possibilités à étudier !\n",
    "- Pour 5 nombres, il faudrait 120 instructions à proposer !  \n",
    "- Pour 10 nombres $2 \\times 3 \\times 4 \\times 5 \\times 6 \\times 7 \\times 8 \\times 9 \\times 10 = 3628800$"
   ]
  },
  {
   "cell_type": "markdown",
   "metadata": {},
   "source": [
    "# Exercice 15\n",
    "Une fonction polynôme du second degré est de la forme $ax^2+bx+c$ avec $ a \\neq  0$.    \n",
    "On propose de déterminer si le polynôme admet des racines, autrement dit, si l'équation $ax^2+bx+c=0$ admet des solutions. Écrire un programme en python pour:\n",
    "\n",
    "1. Saisir la valeur de chaque coefficient a, b et c du trinôme.\n",
    "2. Calculer le discriminant dans une variable delta et afficher sa valeur.\n",
    "3. Dire si le trinôme a 0, 1 ou 2 racines et en donner les valeurs.\n",
    "4. Tester votre code avec les trinômes $-x^2+3x-4$, $-x^2+2x-1$ et $\\dfrac{1}{2}x^2+x-7$.\n",
    "5. Modifier votre programme pour refuser la valeur $a=0$ en précisant que ce n'est pas du second degré."
   ]
  },
  {
   "cell_type": "code",
   "execution_count": null,
   "metadata": {},
   "outputs": [],
   "source": [
    "from math import sqrt\n",
    "\n",
    "a=float(input(\"a=\"))\n",
    "b=float(input(\"b=\"))\n",
    "c=float(input(\"c=\"))\n",
    "\n",
    "delta=b**2-4*a*c\n",
    "print(\"Le discriminant vaut:\",delta)\n",
    "\n",
    "if delta>0:\n",
    "    print(\"Le trinôme a 2 racines %s et %s\" % ((-b+sqrt(delta))/(2*a),(-b-sqrt(delta))/(2*a)))\n",
    "elif delta==0:\n",
    "    print(\"Le trinôme a une racine double %s\" % (-b/(2*a)))\n",
    "else:\n",
    "    print(\"Le trinôme n'a pas de racine\")"
   ]
  },
  {
   "cell_type": "code",
   "execution_count": null,
   "metadata": {},
   "outputs": [],
   "source": [
    "from math import sqrt\n",
    "\n",
    "a=float(input(\"a=\"))\n",
    "b=float(input(\"b=\"))\n",
    "c=float(input(\"c=\"))\n",
    "\n",
    "if a==0:\n",
    "    print(\"Ce n'est pas un trinôme du second degré !\")\n",
    "else:\n",
    "    delta=b**2-4*a*c\n",
    "    print(\"Le discriminant vaut:\",delta)\n",
    "    if delta>0:\n",
    "        print(\"Le trinôme a 2 racines %s et %s\" % ((-b+sqrt(delta))/(2*a),(-b-sqrt(delta))/(2*a)))\n",
    "    elif delta==0:\n",
    "        print(\"Le trinôme a une racine double %s\" % (-b/(2*a)))\n",
    "    else:\n",
    "        print(\"Le trinôme n'a pas de racine\")"
   ]
  },
  {
   "cell_type": "code",
   "execution_count": null,
   "metadata": {},
   "outputs": [],
   "source": []
  }
 ],
 "metadata": {
  "kernelspec": {
   "display_name": "Python 3",
   "language": "python",
   "name": "python3"
  },
  "language_info": {
   "codemirror_mode": {
    "name": "ipython",
    "version": 3
   },
   "file_extension": ".py",
   "mimetype": "text/x-python",
   "name": "python",
   "nbconvert_exporter": "python",
   "pygments_lexer": "ipython3",
   "version": "3.9.4"
  },
  "latex_envs": {
   "LaTeX_envs_menu_present": true,
   "autoclose": false,
   "autocomplete": true,
   "bibliofile": "biblio.bib",
   "cite_by": "apalike",
   "current_citInitial": 1,
   "eqLabelWithNumbers": true,
   "eqNumInitial": 1,
   "hotkeys": {
    "equation": "Ctrl-E",
    "itemize": "Ctrl-I"
   },
   "labels_anchors": false,
   "latex_user_defs": false,
   "report_style_numbering": false,
   "user_envs_cfg": false
  }
 },
 "nbformat": 4,
 "nbformat_minor": 2
}
