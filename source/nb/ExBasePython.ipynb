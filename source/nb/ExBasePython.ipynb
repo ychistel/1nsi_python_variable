{
 "cells": [
  {
   "cell_type": "markdown",
   "metadata": {},
   "source": [
    "# Exercices : base du langage Python"
   ]
  },
  {
   "cell_type": "markdown",
   "metadata": {},
   "source": [
    "# Exercice\n",
    "\n",
    "1. Déclarer dans l'interpréteur Python, 2 variables $a$ et $b$ en leur affectant respectivement les valeurs $15$ et $7$.\n",
    "2. Calculer `a//b` puis `b//a`. Que signifient les valeurs affichées?\n",
    "3. Calculer `a%b` et `b%a`. Que signifient les valeurs affichées?\n",
    "4. Calculer `a/2+b/3`. Quel est le type numérique obtenu ?\n",
    "5. Calculer `a**4-b**3`. Quel est le calcul effectué ?"
   ]
  },
  {
   "cell_type": "markdown",
   "metadata": {},
   "source": [
    "# Exercice\n",
    "\n",
    "1. Quelle est la valeur de la variable $a$ si on saisit les lignes suivantes dans l'interpréteur :\n",
    "\n",
    "```python\n",
    ">>> a=3\n",
    ">>> a=4    \n",
    ">>> a=a+2    \n",
    ">>> a     \n",
    "```\n",
    "\n",
    "2. Refaire de même avec :\n",
    "\n",
    "```python\n",
    ">>> a=2\n",
    ">>> b=a*a\n",
    ">>> b=a*b\n",
    ">>> b=b*b\n",
    ">>> b\n",
    "```\n",
    "\n",
    "3. Vérifier vos réponses en saisissant ces lignes dans l'interpréteur."
   ]
  },
  {
   "cell_type": "markdown",
   "metadata": {},
   "source": [
    "# Exercice\n",
    "\n",
    "On donne le programme suivant:\n",
    "\n",
    "```python\n",
    "a = int(input(\"Valeur de a:\"))\n",
    "b = int(input(\"Valeur de b:\"))\n",
    "a,b = b,a\n",
    "print('valeur de a:',a)\n",
    "print('valeur de b:',b)\n",
    "```\n",
    "\n",
    "1. Que fait ce programme si on saisit la valeur 5 pour `a` et 3 pour `b` ?\n",
    "2. Saisir dans l'éditeur le programme suivant et l'enregistrer sous le nom **vice-versa.py**.\n",
    "3. Exécuter ce programme et saisir les valeurs 5 et 3.\n",
    "4. Supprimer la ligne `a,b = b,a` de ce programme puis écrire les instructions en Python qui permettent de faire la même action en utilisant 3 variables `a`, `b` et `c`.\n"
   ]
  },
  {
   "cell_type": "markdown",
   "metadata": {},
   "source": [
    "# Exercice\n",
    "\n",
    "Depuis l'interpréteur, accéder à l'éditeur python, puis écrire un programme qui :\n",
    "\n",
    "1. demande la saisie d'une valeur pour la variable $a$.\n",
    "2. demande la saisie d'une valeur pour la variable $b$.\n",
    "3. calcule et affiche la somme des nombres $a$ et $b$.\n",
    "4. Que remarquez-vous ? Corriger si nécessaire."
   ]
  },
  {
   "cell_type": "markdown",
   "metadata": {},
   "source": [
    "# Exercice\n",
    "\n",
    "1. Dans l'interpréteur, saisir :     \n",
    "a) `int('0110',2)`    \n",
    "b) `int('FF',16)`    \n",
    "c) `int('10011001', 2)`\n",
    "2. Que semble réaliser la fonction python `int(chaine, base)` ?\n",
    "3. Écrire un programme qui demande la saisie d'une base (entre 2 et 36) et un nombre dans cette base et affiche ce nombre en base 10."
   ]
  },
  {
   "cell_type": "markdown",
   "metadata": {},
   "source": [
    "# Exercice\n",
    "\n",
    "1. Les tests suivants sont-ils vrais ou faux ?    \n",
    "a) `5 > 0`     \n",
    "b) `25 > 0 and 25 < 100`     \n",
    "c) `36 > 0 or 36 < 100`    \n",
    "d) `10 < 0 or 10 > 0`    \n",
    "e) `-1 < 0 and -1 > 1`    \n",
    "f) `not -1 < 0`    \n",
    "g) `not(1>0 or 0>1)`    \n",
    "h) `not(1>0 and 0>1)`   \n",
    "i) `3 % 2 == 0`    \n",
    "j) `7 // 2 == 3`    \n",
    "k) `0.1 + 0.2 == 0.3`\n",
    "2. Vérifiez vos réponses en les saisissant dans l'interpréteur Python"
   ]
  },
  {
   "cell_type": "markdown",
   "metadata": {},
   "source": [
    "# Exercice\n",
    "\n",
    "On donne le programme incomplet suivant:\n",
    "\n",
    "```python\n",
    "n = int(input(\"Valeur de n:\"))\n",
    "if ... :\n",
    "    print('le nombre n est pair')\n",
    "else:\n",
    "    print('le nombre n est impair')\n",
    "```\n",
    "1. Compléter ce programme pour qu'il affiche la bonne réponse dans tous les cas.\n",
    "2. Saisir ce programme dans l'éditeur Python, l'enregistrer sous le nom **parite.py** puis l'exécuter."
   ]
  },
  {
   "cell_type": "markdown",
   "metadata": {},
   "source": [
    "# Exercice\n",
    "\n",
    "1. Créer un nouveau fichier Python dans l'éditeur et l'enregistrer sous le nom **multiple.py**.\n",
    "2. Reprendre le programme de l'exercice précédent et le modifier pour vérifier que le nombre saisi est un multiple de 3.\n",
    "3. Modifier le programme précédent pour dire si le nombre saisi est un multiple de 5.\n",
    "4. Modifier votre programme pour dire si le nombre saisi est :\n",
    "\n",
    "- un multiple de 3 uniquement;\n",
    "- un multiple de 5 uniquement;\n",
    "- un multiple de 3 et 5."
   ]
  },
  {
   "cell_type": "markdown",
   "metadata": {},
   "source": [
    "# Exercice\n",
    "\n",
    "1. Créer un nouveau fichier Python dans l'éditeur et l'enregistrer sous le nom **multiple-a-b.py**.\n",
    "2. Écrire un programme qui :\n",
    "\n",
    "- demande la saisie de deux nombres entiers `a` et `b`;\n",
    "- affiche si l'un est un multiple de l'autre.\n",
    "- on traitera les deux cas `a` est un multiple de `b` ou `b` est un multiple de `a`."
   ]
  },
  {
   "cell_type": "markdown",
   "metadata": {},
   "source": [
    "# Exercice\n",
    "\n",
    "1. Créer un nouveau fichier Python dans l'éditeur et l'enregistrer sous le nom **identite.py**.\n",
    "2. Écrire un programme en Python qui :\n",
    "\n",
    "- demande de saisir le nom dans une variable **nom**. \n",
    "- demande de saisir le prénom dans une variable **prenom**.\n",
    "- demande de saisir l'âge dans la variable **age**.\n",
    "- affiche le message \"Vous vous appelez prenom nom et vous avez age ans.\" (en remplaçant les variables nom, prénom et age par leurs valeurs).\n",
    "\n",
    "3. Modifier votre programme avec un test qui permet de dire si la personne est plus jeune, plus vielle ou a le même âge que vous."
   ]
  },
  {
   "cell_type": "markdown",
   "metadata": {},
   "source": [
    "# Exercice\n",
    "\n",
    "Écrire un programme qui demande la saisie des trois longueurs d'un triangle et affiche sa nature selon les cas.\n",
    "\n",
    "On rappelle qu'un triangle est iscèle s'il a 2 côtés de même longueur et qu'il est équilatéral s'il a ses trois cotés de même longueur."
   ]
  },
  {
   "cell_type": "markdown",
   "metadata": {},
   "source": [
    "# Exercice\n",
    "\n",
    "Écrire un programme qui demande la saisie d'une année $n$ et affiche si elle est bissextile ou non.      \n",
    "On rappelle qu'une année est bissextile si elle est un multiple de 4 mais pas un multiple de 100, ou si elle est un multiple de 400."
   ]
  },
  {
   "cell_type": "markdown",
   "metadata": {},
   "source": [
    "# Exercice\n",
    "\n",
    "La solution des équations du type $ax+b=0$ est $\\dfrac{-b}{a}$ lorsque $a$ est non nul. Si $a$ est nul, alors soit il y a infinité de solutions lorsque $b=0$, soit aucune solution dans le cas contraire.\n",
    "\n",
    "Écrire un programme qui :\n",
    "- demande la saisie des coefficients `a` et `b`.\n",
    "- donne la solution de l'équation $ax+b=0$ selon les différents cas de figure."
   ]
  },
  {
   "cell_type": "markdown",
   "metadata": {},
   "source": [
    "# Exercice\n",
    "\n",
    "1. Écrire un programme qui demande la saisie de 2 nombres entiers puis affiche ces nombres dans l'ordre croissant.\n",
    "2. Écrire un programme qui demande la saisie de 3 nombres entiers puis affiche ces nombres dans l'ordre croissant.\n",
    "3. Combien de tests de comparaison faudrait-il pour 4 nombres entiers ?"
   ]
  },
  {
   "cell_type": "markdown",
   "metadata": {},
   "source": [
    "# Exercice\n",
    "\n",
    "Une fonction polynôme du second degré est de la forme $ax^2+bx+c$ avec $ a \\neq  0$.    \n",
    "On propose de déterminer si le polynôme admet des racines, autrement dit, si l'équation $ax^2+bx+c=0$ admet des solutions. Écrire un programme en python pour:\n",
    "\n",
    "1. Saisir la valeur de chaque coefficient a, b et c du trinôme.\n",
    "2. Calculer le discriminant dans une variable delta et afficher sa valeur.\n",
    "3. Dire si le trinôme a 0, 1 ou 2 racines et en donner les valeurs.\n",
    "4. Tester votre code avec les trinômes $-x^2+3x-4$, $-x^2+2x-1$ et $\\dfrac{1}{2}x^2+x-7$.\n",
    "5. Modifier votre programme pour refuser la valeur $a=0$ en précisant que ce n'est pas du second degré."
   ]
  }
 ],
 "metadata": {
  "kernelspec": {
   "display_name": "Python 3",
   "language": "python",
   "name": "python3"
  },
  "language_info": {
   "codemirror_mode": {
    "name": "ipython",
    "version": 3
   },
   "file_extension": ".py",
   "mimetype": "text/x-python",
   "name": "python",
   "nbconvert_exporter": "python",
   "pygments_lexer": "ipython3",
   "version": "3.9.4"
  },
  "latex_envs": {
   "LaTeX_envs_menu_present": true,
   "autoclose": false,
   "autocomplete": true,
   "bibliofile": "biblio.bib",
   "cite_by": "apalike",
   "current_citInitial": 1,
   "eqLabelWithNumbers": true,
   "eqNumInitial": 1,
   "hotkeys": {
    "equation": "Ctrl-E",
    "itemize": "Ctrl-I"
   },
   "labels_anchors": false,
   "latex_user_defs": false,
   "report_style_numbering": false,
   "user_envs_cfg": false
  }
 },
 "nbformat": 4,
 "nbformat_minor": 2
}
